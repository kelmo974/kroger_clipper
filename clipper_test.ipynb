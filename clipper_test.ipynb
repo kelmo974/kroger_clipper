{
 "cells": [
  {
   "cell_type": "code",
   "execution_count": 17,
   "metadata": {},
   "outputs": [],
   "source": [
    "from playwright.sync_api import sync_playwright"
   ]
  },
  {
   "cell_type": "code",
   "execution_count": 18,
   "metadata": {},
   "outputs": [],
   "source": [
    "url = 'https://www.cnn.com/'"
   ]
  },
  {
   "cell_type": "code",
   "execution_count": 19,
   "metadata": {},
   "outputs": [],
   "source": [
    "def driver_connection(url):\n",
    "    with sync_playwright() as p:\n",
    "        browser = p.chromium.launch()\n",
    "        page = browser.new_page()\n",
    "        page.goto(url)\n",
    "        element = page.wait_for_selector(\"h1\")\n",
    "        try:\n",
    "            element = page.wait_for_selector(\"h1\", timeout=5000) # added timeout\n",
    "            print(element.inner_text())\n",
    "        except Exception as e:\n",
    "            print(f\"Error finding h1: {e}\")\n",
    "        finally:\n",
    "            browser.close()"
   ]
  },
  {
   "cell_type": "code",
   "execution_count": null,
   "metadata": {},
   "outputs": [],
   "source": []
  }
 ],
 "metadata": {
  "kernelspec": {
   "display_name": ".venv",
   "language": "python",
   "name": "python3"
  },
  "language_info": {
   "codemirror_mode": {
    "name": "ipython",
    "version": 3
   },
   "file_extension": ".py",
   "mimetype": "text/x-python",
   "name": "python",
   "nbconvert_exporter": "python",
   "pygments_lexer": "ipython3",
   "version": "3.13.2"
  }
 },
 "nbformat": 4,
 "nbformat_minor": 2
}
